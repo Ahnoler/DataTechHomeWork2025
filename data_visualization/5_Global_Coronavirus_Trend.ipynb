import pandas as pd
import matplotlib.pyplot as plt
import numpy as np
from datetime import datetime
import matplotlib.dates as mdates

# 数据准备
# 加载全球疫情时间序列数据
global_trend_data = pd.read_json('../data/global_corona_trend.json')

# 数据处理
global_trend_data['date'] = pd.to_datetime(global_trend_data['dateId'], format='%Y%m%d')
global_trend_data.set_index('date', inplace=True)

# 计算7日移动平均，平滑曲线
global_trend_data['confirmed_7day_avg'] = global_trend_data['confirmedIncrement'].rolling(window=7).mean()
global_trend_data['current_7day_avg'] = global_trend_data['currentConfirmedCount'].rolling(window=7).mean()

# 创建子图
fig, (ax1, ax2, ax3) = plt.subplots(3, 1, figsize=(14, 12))

# 1. 全球累计确诊趋势
ax1.plot(global_trend_data.index, global_trend_data['confirmedCount'], 
         linewidth=2, color='#e74c3c', label='累计确诊')
ax1.fill_between(global_trend_data.index, 0, global_trend_data['confirmedCount'],
                 alpha=0.3, color='#e74c3c')
ax1.set_title('全球新冠疫情累计确诊趋势', fontsize=16, fontweight='bold', pad=20)
ax1.set_ylabel('累计确诊人数', fontsize=12)
ax1.grid(True, alpha=0.3)
ax1.legend()

# 2. 全球每日新增确诊趋势
ax2.bar(global_trend_data.index, global_trend_data['confirmedIncrement'], 
        alpha=0.7, color='#3498db', label='每日新增', width=1.0)
ax2.plot(global_trend_data.index, global_trend_data['confirmed_7day_avg'],
         linewidth=3, color='#e74c3c', label='7日移动平均')
ax2.set_title('全球新冠疫情每日新增确诊趋势', fontsize=16, fontweight='bold', pad=20)
ax2.set_ylabel('每日新增人数', fontsize=12)
ax2.grid(True, alpha=0.3)
ax2.legend()

# 3. 全球现有确诊趋势
ax3.plot(global_trend_data.index, global_trend_data['currentConfirmedCount'],
         linewidth=2, color='#f39c12', label='现有确诊')
ax3.fill_between(global_trend_data.index, 0, global_trend_data['currentConfirmedCount'],
                 alpha=0.3, color='#f39c12')
ax3.plot(global_trend_data.index, global_trend_data['current_7day_avg'],
         linewidth=2, color='#d35400', linestyle='--', label='7日移动平均')
ax3.set_title('全球新冠疫情现有确诊趋势', fontsize=16, fontweight='bold', pad=20)
ax3.set_xlabel('日期', fontsize=12)
ax3.set_ylabel('现有确诊人数', fontsize=12)
ax3.grid(True, alpha=0.3)
ax3.legend()

# 设置x轴格式
for ax in [ax1, ax2, ax3]:
    ax.xaxis.set_major_formatter(mdates.DateFormatter('%Y-%m'))
    ax.xaxis.set_major_locator(mdates.MonthLocator(interval=1))
    plt.setp(ax.xaxis.get_majorticklabels(), rotation=45)

plt.tight_layout()
plt.show()

# 关键时间点标注
peak_date = global_trend_data['confirmedIncrement'].idxmax()
peak_value = global_trend_data['confirmedIncrement'].max()

print(f"疫情高峰时间: {peak_date.strftime('%Y年%m月%d日')}")
print(f"单日最高新增: {peak_value:,.0f} 例")
print(f"累计确诊总数: {global_trend_data['confirmedCount'].iloc[-1]:,.0f} 例")
print(f"当前现有确诊: {global_trend_data['currentConfirmedCount'].iloc[-1]:,.0f} 例")
